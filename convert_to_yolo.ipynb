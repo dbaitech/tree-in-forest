{
  "nbformat": 4,
  "nbformat_minor": 0,
  "metadata": {
    "colab": {
      "provenance": []
    },
    "kernelspec": {
      "name": "python3",
      "display_name": "Python 3"
    },
    "language_info": {
      "name": "python"
    }
  },
  "cells": [
    {
      "cell_type": "markdown",
      "source": [
        "# Convert the annotations to YOLO format to be compatible with the model"
      ],
      "metadata": {
        "id": "TFz2KMQ44ObC"
      }
    },
    {
      "cell_type": "code",
      "execution_count": 1,
      "metadata": {
        "colab": {
          "base_uri": "https://localhost:8080/"
        },
        "id": "BTviN7jhEQZB",
        "outputId": "510c5df7-729a-4e1d-8cec-9e4561d0c09f"
      },
      "outputs": [
        {
          "output_type": "stream",
          "name": "stdout",
          "text": [
            "Mounted at /content/drive\n"
          ]
        }
      ],
      "source": [
        "from google.colab import drive\n",
        "drive.mount('/content/drive')"
      ]
    },
    {
      "cell_type": "code",
      "source": [
        "images_folder = '/content/drive/My Drive/Tree in Forest/Supermarket shelves/images/'\n",
        "annotations_folder = '/content/drive/My Drive/Tree in Forest/Supermarket shelves/annotations/'\n",
        "labels_folder = '/content/drive/My Drive/Tree in Forest/Supermarket shelves/labels/'"
      ],
      "metadata": {
        "id": "C2I6X3orzB0k"
      },
      "execution_count": 9,
      "outputs": []
    },
    {
      "cell_type": "code",
      "source": [
        "import os\n",
        "import json"
      ],
      "metadata": {
        "id": "Zrm8QaK66HEJ"
      },
      "execution_count": 10,
      "outputs": []
    },
    {
      "cell_type": "code",
      "source": [
        "def get_class_nbr(class_title):\n",
        "  if class_title == 'Product':\n",
        "    return 0\n",
        "  elif class_title == 'Price':\n",
        "    return 1\n",
        "  else:\n",
        "    raise Exception('Unknown class title')\n",
        "\n",
        "def convert_to_yolo(file_data, file_name):\n",
        "  objects = file_data['objects']\n",
        "  img_width = file_data['size']['width']\n",
        "  img_height = file_data['size']['height']\n",
        "\n",
        "  txt_filename = os.path.join(labels_folder, file_name.split('.')[0] + '.txt')\n",
        "  with open(txt_filename, 'w') as tf:\n",
        "    for obj in objects:\n",
        "      # get class title\n",
        "      class_title = obj['classTitle']\n",
        "      try:\n",
        "        class_nbr = get_class_nbr(class_title)\n",
        "      except Exception as e:\n",
        "        print(f'{e}: {class_title}')\n",
        "        continue   # skip the current object with unknown class title\n",
        "\n",
        "      # get top-left and bottom-right coordinates\n",
        "      top_left = tuple(obj['points']['exterior'][0])\n",
        "      bottom_right = tuple(obj['points']['exterior'][1])\n",
        "\n",
        "      # get x_center and y_center\n",
        "      x_center = (top_left[0] + bottom_right[0]) / 2\n",
        "      y_center = (top_left[1] + bottom_right[1]) / 2\n",
        "\n",
        "      # get width and height\n",
        "      width = abs(bottom_right[0] - top_left[0])\n",
        "      height = abs(bottom_right[1] - top_left[1])\n",
        "\n",
        "      # normalize\n",
        "      x_center /= img_width\n",
        "      y_center /= img_height\n",
        "      width /= img_width\n",
        "      height /= img_height\n",
        "\n",
        "      # write to file\n",
        "      tf.write(f'{class_nbr} {x_center} {y_center} {width} {height}\\n')"
      ],
      "metadata": {
        "id": "seifhnuW6CQv"
      },
      "execution_count": 13,
      "outputs": []
    },
    {
      "cell_type": "code",
      "source": [
        "for file in os.listdir(annotations_folder):\n",
        "  with open(os.path.join(annotations_folder, file), 'r') as f:\n",
        "    data = json.load(f)\n",
        "    convert_to_yolo(data, file)"
      ],
      "metadata": {
        "id": "Ger3YVXB6UzG"
      },
      "execution_count": 14,
      "outputs": []
    }
  ]
}