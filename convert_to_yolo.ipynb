{
  "nbformat": 4,
  "nbformat_minor": 0,
  "metadata": {
    "colab": {
      "provenance": []
    },
    "kernelspec": {
      "name": "python3",
      "display_name": "Python 3"
    },
    "language_info": {
      "name": "python"
    }
  },
  "cells": [
    {
      "cell_type": "markdown",
      "source": [
        "# Convert the annotations to YOLO format to be compatible with the model"
      ],
      "metadata": {
        "id": "TFz2KMQ44ObC"
      }
    },
    {
      "cell_type": "code",
      "execution_count": 1,
      "metadata": {
        "colab": {
          "base_uri": "https://localhost:8080/"
        },
        "id": "BTviN7jhEQZB",
        "outputId": "2510faf1-06b4-4f2e-cdf6-0851fd292bc5"
      },
      "outputs": [
        {
          "output_type": "stream",
          "name": "stdout",
          "text": [
            "Mounted at /content/drive\n"
          ]
        }
      ],
      "source": [
        "from google.colab import drive\n",
        "drive.mount('/content/drive')"
      ]
    },
    {
      "cell_type": "code",
      "source": [
        "train_images_folder = '/content/drive/My Drive/Tree in Forest/Supermarket shelves/images/train/'\n",
        "val_images_folder = '/content/drive/My Drive/Tree in Forest/Supermarket shelves/images/val/'\n",
        "\n",
        "train_annotations_folder = '/content/drive/My Drive/Tree in Forest/Supermarket shelves/annotations/train/'\n",
        "val_annotations_folder = '/content/drive/My Drive/Tree in Forest/Supermarket shelves/annotations/val/'\n",
        "\n",
        "train_labels_folder = '/content/drive/My Drive/Tree in Forest/Supermarket shelves/labels/train/'\n",
        "val_labels_folder = '/content/drive/My Drive/Tree in Forest/Supermarket shelves/labels/val/'"
      ],
      "metadata": {
        "id": "C2I6X3orzB0k"
      },
      "execution_count": 11,
      "outputs": []
    },
    {
      "cell_type": "code",
      "source": [
        "import os\n",
        "import json"
      ],
      "metadata": {
        "id": "Zrm8QaK66HEJ"
      },
      "execution_count": 4,
      "outputs": []
    },
    {
      "cell_type": "code",
      "source": [
        "def get_class_nbr(class_title):\n",
        "  if class_title == 'Product':\n",
        "    return 0\n",
        "  elif class_title == 'Price':\n",
        "    return 1\n",
        "  else:\n",
        "    raise Exception('Unknown class title')\n",
        "\n",
        "def convert_to_yolo(file_data, file_name, write_to_folder):\n",
        "  objects = file_data['objects']\n",
        "  img_width = file_data['size']['width']\n",
        "  img_height = file_data['size']['height']\n",
        "\n",
        "  txt_filename = os.path.join(write_to_folder, file_name.split('.')[0] + '.txt')\n",
        "  with open(txt_filename, 'w') as tf:\n",
        "    for obj in objects:\n",
        "      # get class title\n",
        "      class_title = obj['classTitle']\n",
        "      try:\n",
        "        class_nbr = get_class_nbr(class_title)\n",
        "      except Exception as e:\n",
        "        print(f'{e}: {class_title}')\n",
        "        continue   # skip the current object with unknown class title\n",
        "\n",
        "      # get top-left and bottom-right coordinates\n",
        "      top_left = tuple(obj['points']['exterior'][0])\n",
        "      bottom_right = tuple(obj['points']['exterior'][1])\n",
        "\n",
        "      # get x_center and y_center\n",
        "      x_center = (top_left[0] + bottom_right[0]) / 2\n",
        "      y_center = (top_left[1] + bottom_right[1]) / 2\n",
        "\n",
        "      # remove if center goes past image dimensions\n",
        "      if (x_center < 0) or (x_center > img_width) or (y_center < 0) or (y_center > img_height):\n",
        "        continue\n",
        "\n",
        "      # get width and height\n",
        "      width = abs(bottom_right[0] - top_left[0])\n",
        "      height = abs(bottom_right[1] - top_left[1])\n",
        "\n",
        "      # normalize\n",
        "      x_center /= img_width\n",
        "      y_center /= img_height\n",
        "      width /= img_width\n",
        "      height /= img_height\n",
        "\n",
        "      # write to file\n",
        "      tf.write(f'{class_nbr} {x_center} {y_center} {width} {height}\\n')"
      ],
      "metadata": {
        "id": "seifhnuW6CQv"
      },
      "execution_count": 8,
      "outputs": []
    },
    {
      "cell_type": "code",
      "source": [
        "for file in os.listdir(train_annotations_folder):\n",
        "  with open(os.path.join(train_annotations_folder, file), 'r') as f:\n",
        "    data = json.load(f)\n",
        "    convert_to_yolo(data, file, train_labels_folder)\n",
        "\n",
        "for file in os.listdir(val_annotations_folder):\n",
        "  with open(os.path.join(val_annotations_folder, file), 'r') as f:\n",
        "    data = json.load(f)\n",
        "    convert_to_yolo(data, file, val_labels_folder)"
      ],
      "metadata": {
        "id": "Ger3YVXB6UzG"
      },
      "execution_count": 12,
      "outputs": []
    }
  ]
}